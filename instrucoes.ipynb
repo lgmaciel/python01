{
 "cells": [
  {
   "cell_type": "code",
   "execution_count": 3,
   "metadata": {},
   "outputs": [
    {
     "data": {
      "text/html": [
       "<svg width=\"320\" height=\"200\" style=\"fill:none; stroke-linecap:round;\">\n",
       "    <rect width=\"100%\" height=\"100%\" fill=\"#3232FF\" />\n",
       "\n",
       "\n",
       "<path stroke=\"#EEEEEE\" stroke-width=\"2\" d=\"M 160,100 210,100 245.4,135.4\" />'\n",
       "\n",
       "<g transform=\"rotate(-45.0,245.4,135.4) translate(245.4, 135.4)\">\n",
       "    <circle stroke=\"#32EE32\" stroke-width=\"2\" fill=\"transparent\" r=\"5.5\" cx=\"0\" cy=\"0\"/>\n",
       "    <polygon points=\"0,12 2,9 -2,9\" style=\"fill:#32EE32;stroke:#32EE32;stroke-width:2\"/>\n",
       "</g>\n",
       "\n",
       "</svg>"
      ],
      "text/plain": [
       "<IPython.core.display.HTML object>"
      ]
     },
     "metadata": {},
     "output_type": "display_data"
    }
   ],
   "source": [
    "from jupyturtle import *\n",
    "make_turtle()\n",
    "forward(50)\n",
    "right(45)\n",
    "forward(50)\n",
    "draw()"
   ]
  },
  {
   "cell_type": "code",
   "execution_count": 4,
   "metadata": {},
   "outputs": [
    {
     "data": {
      "text/html": [
       "<svg width=\"320\" height=\"200\" style=\"fill:none; stroke-linecap:round;\">\n",
       "    <rect width=\"100%\" height=\"100%\" fill=\"#3232FF\" />\n",
       "\n",
       "\n",
       "<path stroke=\"#EEEEEE\" stroke-width=\"2\" d=\"M 160,100 50,50 100,50\" />'\n",
       "\n",
       "<g transform=\"rotate(-90.0,100.0,50.0) translate(100.0, 50.0)\">\n",
       "    <circle stroke=\"#32EE32\" stroke-width=\"2\" fill=\"transparent\" r=\"5.5\" cx=\"0\" cy=\"0\"/>\n",
       "    <polygon points=\"0,12 2,9 -2,9\" style=\"fill:#32EE32;stroke:#32EE32;stroke-width:2\"/>\n",
       "</g>\n",
       "\n",
       "</svg>"
      ],
      "text/plain": [
       "<IPython.core.display.HTML object>"
      ]
     },
     "metadata": {},
     "output_type": "display_data"
    }
   ],
   "source": [
    "%%turtle\n",
    "pulapara(50,50)\n",
    "anda(50)"
   ]
  }
 ],
 "metadata": {
  "kernelspec": {
   "display_name": "Python 3",
   "language": "python",
   "name": "python3"
  },
  "language_info": {
   "codemirror_mode": {
    "name": "ipython",
    "version": 3
   },
   "file_extension": ".py",
   "mimetype": "text/x-python",
   "name": "python",
   "nbconvert_exporter": "python",
   "pygments_lexer": "ipython3",
   "version": "3.13.2"
  }
 },
 "nbformat": 4,
 "nbformat_minor": 2
}
