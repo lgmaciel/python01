{
 "cells": [
  {
   "cell_type": "code",
   "execution_count": 1,
   "metadata": {},
   "outputs": [],
   "source": [
    "from jupyturtle import *"
   ]
  },
  {
   "cell_type": "code",
   "execution_count": null,
   "metadata": {},
   "outputs": [],
   "source": [
    "%%turtle\n",
    "\n",
    "def quadrado():\n",
    "    anda(50)\n",
    "    gira(90)\n",
    "    \n",
    "\n",
    "def quadrados():\n",
    "    global x    \n",
    "    pulapara(x,10)   \n",
    "    repita(4, quadrado)\n",
    "    x += 60\n",
    "\n",
    "\n",
    "x = 15\n",
    "repita(5, quadrados)\n",
    "pulapara(160,100)\n"
   ]
  },
  {
   "cell_type": "code",
   "execution_count": 3,
   "metadata": {},
   "outputs": [
    {
     "data": {
      "text/html": [
       "<svg width=\"320\" height=\"200\" style=\"fill:none; stroke-linecap:round;\">\n",
       "    <rect width=\"100%\" height=\"100%\" fill=\"#3232FF\" />\n",
       "\n",
       "\n",
       "<path stroke=\"#EEEEEE\" stroke-width=\"2\" d=\"M 160,100\" />'\n",
       "\n",
       "<path stroke=\"#EEEEEE\" stroke-width=\"2\" d=\"M 10,10 60,10 60,60 10,60 10,10\" />'\n",
       "\n",
       "<path stroke=\"#EEEEEE\" stroke-width=\"2\" d=\"M 70,10 120,10 120,60 70,60 70,10\" />'\n",
       "\n",
       "<path stroke=\"#EEEEEE\" stroke-width=\"2\" d=\"M 130,10 180,10 180,60 130,60 130,10\" />'\n",
       "\n",
       "<path stroke=\"#EEEEEE\" stroke-width=\"2\" d=\"M 190,10 240,10 240,60 190,60 190,10\" />'\n",
       "\n",
       "<path stroke=\"#EEEEEE\" stroke-width=\"2\" d=\"M 250,10 300,10 300,60 250,60 250,10\" />'\n",
       "\n",
       "<path stroke=\"#EEEEEE\" stroke-width=\"2\" d=\"M 310,10\" />'\n",
       "\n",
       "<path stroke=\"#EEEEEE\" stroke-width=\"2\" d=\"M 160,100\" />'\n",
       "\n",
       "<g transform=\"rotate(-90.0,160,100) translate(160, 100)\">\n",
       "    <circle stroke=\"#32EE32\" stroke-width=\"2\" fill=\"transparent\" r=\"5.5\" cx=\"0\" cy=\"0\"/>\n",
       "    <polygon points=\"0,12 2,9 -2,9\" style=\"fill:#32EE32;stroke:#32EE32;stroke-width:2\"/>\n",
       "</g>\n",
       "\n",
       "</svg>"
      ],
      "text/plain": [
       "<IPython.core.display.HTML object>"
      ]
     },
     "metadata": {},
     "output_type": "display_data"
    }
   ],
   "source": [
    "%%turtle\n",
    "\n",
    "def quadrado():\n",
    "    for _ in range(4):\n",
    "        anda(50)\n",
    "        gira(90)\n",
    "\n",
    "pulapara(10,10)\n",
    "for _ in range(5):\n",
    "    quadrado()\n",
    "    naorisca()\n",
    "    anda(60)\n",
    "    risca()\n",
    "\n",
    "pulapara(160,100)"
   ]
  },
  {
   "cell_type": "code",
   "execution_count": 4,
   "metadata": {},
   "outputs": [
    {
     "data": {
      "text/html": [
       "<svg width=\"320\" height=\"200\" style=\"fill:none; stroke-linecap:round;\">\n",
       "    <rect width=\"100%\" height=\"100%\" fill=\"#3232FF\" />\n",
       "\n",
       "\n",
       "<path stroke=\"#EEEEEE\" stroke-width=\"2\" d=\"M 160,100\" />'\n",
       "\n",
       "<path stroke=\"#EEEEEE\" stroke-width=\"2\" d=\"M 10,10 60,10 60,60 10,60 10,10\" />'\n",
       "\n",
       "<path stroke=\"#EEEEEE\" stroke-width=\"2\" d=\"M 70,10 120,10 120,60 70,60 70,10\" />'\n",
       "\n",
       "<path stroke=\"#EEEEEE\" stroke-width=\"2\" d=\"M 130,10 180,10 180,60 130,60 130,10\" />'\n",
       "\n",
       "<path stroke=\"#EEEEEE\" stroke-width=\"2\" d=\"M 190,10 240,10 240,60 190,60 190,10\" />'\n",
       "\n",
       "<path stroke=\"#EEEEEE\" stroke-width=\"2\" d=\"M 250,10 300,10 300,60 250,60 250,10\" />'\n",
       "\n",
       "<path stroke=\"#EEEEEE\" stroke-width=\"2\" d=\"M 310,10\" />'\n",
       "\n",
       "<path stroke=\"#EEEEEE\" stroke-width=\"2\" d=\"M 160,100\" />'\n",
       "\n",
       "<g transform=\"rotate(-90.0,160,100) translate(160, 100)\">\n",
       "    <circle stroke=\"#32EE32\" stroke-width=\"2\" fill=\"transparent\" r=\"5.5\" cx=\"0\" cy=\"0\"/>\n",
       "    <polygon points=\"0,12 2,9 -2,9\" style=\"fill:#32EE32;stroke:#32EE32;stroke-width:2\"/>\n",
       "</g>\n",
       "\n",
       "</svg>"
      ],
      "text/plain": [
       "<IPython.core.display.HTML object>"
      ]
     },
     "metadata": {},
     "output_type": "display_data"
    }
   ],
   "source": [
    "%%turtle\n",
    "\n",
    "def square():\n",
    "    for _ in range(4):\n",
    "        forward(50)\n",
    "        right(90)\n",
    "\n",
    "jumpto(10,10)\n",
    "for _ in range(5):\n",
    "    square()\n",
    "    penup()\n",
    "    forward(60)\n",
    "    pendown()\n",
    "\n",
    "jumpto(160,100)"
   ]
  }
 ],
 "metadata": {
  "kernelspec": {
   "display_name": "Python 3",
   "language": "python",
   "name": "python3"
  },
  "language_info": {
   "codemirror_mode": {
    "name": "ipython",
    "version": 3
   },
   "file_extension": ".py",
   "mimetype": "text/x-python",
   "name": "python",
   "nbconvert_exporter": "python",
   "pygments_lexer": "ipython3",
   "version": "3.12.8"
  }
 },
 "nbformat": 4,
 "nbformat_minor": 2
}
